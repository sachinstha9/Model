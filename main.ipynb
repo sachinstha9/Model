{
 "cells": [
  {
   "cell_type": "code",
   "execution_count": 1,
   "id": "e3b557a8",
   "metadata": {},
   "outputs": [
    {
     "name": "stderr",
     "output_type": "stream",
     "text": [
      "d:\\Users\\270480510\\OneDrive - UP Education\\Documents\\model\\env\\Lib\\site-packages\\tqdm\\auto.py:21: TqdmWarning: IProgress not found. Please update jupyter and ipywidgets. See https://ipywidgets.readthedocs.io/en/stable/user_install.html\n",
      "  from .autonotebook import tqdm as notebook_tqdm\n"
     ]
    }
   ],
   "source": [
    "from transformers import pipeline"
   ]
  },
  {
   "cell_type": "code",
   "execution_count": 26,
   "id": "7ae90e3b",
   "metadata": {},
   "outputs": [
    {
     "name": "stderr",
     "output_type": "stream",
     "text": [
      "Device set to use cuda:0\n"
     ]
    }
   ],
   "source": [
    "classifier = pipeline(\"zero-shot-classification\", model=\"MoritzLaurer/mDeBERTa-v3-base-mnli-xnli\", device=0)"
   ]
  },
  {
   "cell_type": "code",
   "execution_count": 44,
   "id": "82c40cb6",
   "metadata": {},
   "outputs": [],
   "source": [
    "text = \"Lorem Ipsum is simply dummy text of the printing and typesetting industry\" "
   ]
  },
  {
   "cell_type": "code",
   "execution_count": 50,
   "id": "1309517c",
   "metadata": {},
   "outputs": [],
   "source": [
    "labels = [\n",
    "    \"translation\",\n",
    "    \"summarization\",\n",
    "    \"text completion\"\n",
    "]"
   ]
  },
  {
   "cell_type": "code",
   "execution_count": 51,
   "id": "432609d4",
   "metadata": {},
   "outputs": [],
   "source": [
    "def classifier_func(text, classifier=classifier, labels=labels):\n",
    "    return classifier(text, labels)['labels'][0]"
   ]
  },
  {
   "cell_type": "code",
   "execution_count": 53,
   "id": "b05ea647",
   "metadata": {},
   "outputs": [],
   "source": [
    "classified = classifier_func(text)"
   ]
  },
  {
   "cell_type": "code",
   "execution_count": null,
   "id": "b2d6014e",
   "metadata": {},
   "outputs": [],
   "source": [
    "translation_label = [\n",
    "    \"User wants to convert text into Nepali\",\n",
    "    \"User wants to convert text into Hindi\",\n",
    "    \"User wants to convert text into Urdu\",\n",
    "    \"User wants to convert text into Maori\"\n",
    "]"
   ]
  },
  {
   "cell_type": "code",
   "execution_count": 56,
   "id": "bb57a1d2",
   "metadata": {},
   "outputs": [
    {
     "data": {
      "text/plain": [
       "{'sequence': 'What is hi called in Nepali?',\n",
       " 'labels': ['Nepali', 'Hindi', 'French', 'Maori', 'Urdu'],\n",
       " 'scores': [0.8602083921432495,\n",
       "  0.04329986870288849,\n",
       "  0.035985298454761505,\n",
       "  0.030618924647569656,\n",
       "  0.029887545853853226]}"
      ]
     },
     "execution_count": 56,
     "metadata": {},
     "output_type": "execute_result"
    }
   ],
   "source": [
    "classifier(\"What is hi called in Nepali?\", translation_label)"
   ]
  },
  {
   "cell_type": "code",
   "execution_count": null,
   "id": "a41d9d2f",
   "metadata": {},
   "outputs": [],
   "source": []
  }
 ],
 "metadata": {
  "kernelspec": {
   "display_name": "env",
   "language": "python",
   "name": "python3"
  },
  "language_info": {
   "codemirror_mode": {
    "name": "ipython",
    "version": 3
   },
   "file_extension": ".py",
   "mimetype": "text/x-python",
   "name": "python",
   "nbconvert_exporter": "python",
   "pygments_lexer": "ipython3",
   "version": "3.13.3"
  }
 },
 "nbformat": 4,
 "nbformat_minor": 5
}
